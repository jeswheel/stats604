{
 "cells": [
  {
   "cell_type": "markdown",
   "id": "604a7e64-4362-4c94-93f2-ece8d4976c62",
   "metadata": {},
   "source": [
    "# Lab 11: Intro to python and numpy "
   ]
  },
  {
   "cell_type": "markdown",
   "id": "ac9b79c8-a51d-4788-a588-b1c6ef70b65c",
   "metadata": {},
   "source": [
    "## Announcements \n",
    "\n",
    "- HW3 is posted, due Nov 15. "
   ]
  },
  {
   "cell_type": "markdown",
   "id": "cf44ba34-23ee-4630-b2b1-d70d4724ebf9",
   "metadata": {},
   "source": [
    "## Python\n",
    "\n",
    "Today we are going to try to do a brief introduction of Python and `numpy` hopefully these topics aren't entirely new to you, but we are going to try to start from the beginning. \n",
    "\n",
    "### Installing Python \n",
    "\n",
    "- Unlike `R`, there are actually many different python distributions out there, so there are multiple ways that one could install python.\n",
    "- The first is going straight to the source: [https://www.python.org/downloads/](https://www.python.org/downloads/).\n",
    "- Alternatively, we can use a distribution like Anaconda/Miniconda. \n",
    "\n",
    "### Package managers\n",
    "\n",
    "- The default package manager is `pip`. This comes with most python distributions. You can install packages by running something on the command line like `pip install numpy`.\n",
    "- There are more sophisticated package managers that give more flexibility. The most popular example is `conda`, which comes with Anaconda / Miniconda.\n",
    "- To install a package using conda, it's just as simple! `conda install numpy`.\n",
    "\n",
    "### What exactly is conda? \n",
    "\n",
    "- conda can be used to install packages, but in reality it is a way to manage (virtual) *environments*.\n",
    "- A virtual environment is a tool that helps to keep dependencies required by different projects separate by creating isolated spaces for them that contain per-project dependencies for them.\n",
    "- Idea: the package version of numpy I want to use for `project1` might not be the same that I use for `project2`; even more extreme, the version of python I want use for one project might not be the same as the version I use for another project.\n",
    "\n",
    "The desire for a feature like this isn't unique to python programming, you can imagine that you want this feature for other programming languages (including R) as well. So why is this such a native thing to python and not so much in R? My thoughts: \n",
    "\n",
    "- Python is used much more frequently in production, so code that was made many years ago that is still running important processes might be running older versions of Python. Rather than updated an entire system, it might be easier to just keep working with older versions.\n",
    "- Python version updates are much more \"severe\". For example, python 3 came out in 2008, and it is almost entirely a different programing language than python 2, and nearly all python 2 code won't be able to run using python 3. Therefore it is necessary to enable people to use both python 2 (for old existing systems) and python 3 (for new systems). The only time R had an update this drastic it actually changed from the S programming language (S for \"S\"tatistics) to R (\"R\" because it is the letter before \"S\").\n",
    "\n",
    "### Anaconda vs Miniconda \n",
    "\n",
    "- conda is the environment manager that is used by both miniconda and Anaconda.\n",
    "- miniconda is very light-weight, as it comes just with a version of Python, and the conda package manager.\n",
    "- Anacond comes with the environment manager, but also comes with 1500+ of pythons most popular packages already installed.\n",
    "\n",
    "You're free to use whatever you want (anaconda, miniconda, or neither of them). Personally I recommend learning a little bit about miniconda and using that. \n",
    "\n",
    "### Installing Miniconda \n",
    "\n",
    "Installing conda is incredibly simple. There are some instructions on how to do this [here](https://docs.conda.io/projects/miniconda/en/latest/index.html). Basically there are a few commands that it suggests you type in the command line that will download, install, and set-up miniconda for you. \n",
    "\n",
    "### Using environments \n",
    "\n",
    "conda makes it really easy to use different lightweight environments for various projects. For example, you could create a specific environment for this class: \n",
    "\n",
    "```\n",
    "conda create --name stats604\n",
    "```\n",
    "\n",
    "This command will create a conda environment called stats604. Because I didn't give it any specific arguments, it will simply set up with environment with the same version of python that your base environment uses, and it doesn't install any packages. To use this environment, you need to *activate* it: \n",
    "\n",
    "```\n",
    "conda activate stats604\n",
    "```\n",
    "\n",
    "To check which environments exist, you can type: \n",
    "\n",
    "```\n",
    "conda info --envs\n",
    "```\n",
    "\n",
    "There will be an asterisk by the current active environment. You can install packages into your current environment using: \n",
    "\n",
    "```\n",
    "conda install numpy\n",
    "```\n",
    "\n",
    "Finally, let's install jupyter on our new environment so that we can use jupyter-notebooks: \n",
    "\n",
    "```\n",
    "conda install -c conda-forge jupyter\n",
    "```\n",
    "\n",
    "Here we see something extra added to the install command: \n",
    "\n",
    "- `-c` option is shorthand for `--channel` and is used to specify where to look (online) for a certain pacakge.\n",
    "- `conda-forge` is an online package repository, similar to `CRAN` in `R`. `conda-forge` is a community run repository. The default repository is ` https://conda.anaconda.org/`. Here the only reason I specified `conda-forge`, is because that was what is [recommended by the creators of `jupyter`](https://jupyter.org/install).\n",
    "\n",
    "Once jupyter is installed, we can run a jupyter-notebook by running the command \n",
    "```\n",
    "jupyter-notebook\n",
    "```\n",
    "\n",
    "Finally, you can create as many environments as you want, and share them with others! This is a great way to make super reproducible code: you can create an enviroment with specific versions of python and packages, and then share the environment itself with the code that you submit to a journal. This way, all someone has to do is use conda to install your environment, and then they should be able to run your code even if there are updates to python or package versions.\n",
    "\n",
    "\n",
    "While conda is primarily designed as a tool for python, the Anaconda distribution also includes all major versions of R, and most of the very popular R packages. This means that you could also use conda to manage a reproducible R project. Unfortunately, many R packages are not available on Anaconda, which means that this isn't always a perfect solution. (look at [renv](https://rstudio.github.io/renv/articles/renv.html) instead). \n",
    "\n",
    "#### Changing Jupyter-notebook theme: \n",
    "\n",
    "```\n",
    "conda install -c conda-forge jupyterthemes\n",
    "jt -l\n",
    "jt -t <theme_name>\n",
    "```\n"
   ]
  },
  {
   "cell_type": "markdown",
   "id": "8be75bd6-89f4-4a48-bec5-8bd724378470",
   "metadata": {},
   "source": [
    "## NumPy\n",
    "\n",
    "NumPy (which stands for Numerical Python) is an open source Python library used for scientific computing. This is perhaps the most widely used Python library, and it is standard for working with numerical data in Pyhton. Many other popular libraries are built using NumPy, for example, Pandas, SciPy, Matplotlib, and scikit-learn all rely on NumPy. \n",
    "\n",
    "NumPy primarly gives users the ability to do numeric matrix / array calculations, which isn't a native feature in Python. It's really fast by requiring that the elements of an array be the same data type. This allows for many NumPy operations to be implemented in C, avoiding some of the overhead costs associated with an interpreted programming language such as Python. \n",
    "\n",
    "To use NumPy, or any other python library, we use the import statement: \n",
    "\n",
    "```\n",
    "import numpy\n",
    "```\n",
    "\n",
    "However, because NumPy is so frequently used, and we have to call its name everytime we want to use it, we often abbreviate it as:\n",
    "\n",
    "```\n",
    "import numpy as np\n",
    "```"
   ]
  },
  {
   "cell_type": "code",
   "execution_count": null,
   "id": "2aac0019-0067-4eda-ae47-9a9bd6ec0627",
   "metadata": {},
   "outputs": [],
   "source": [
    "import numpy as np\n",
    "import time"
   ]
  },
  {
   "cell_type": "markdown",
   "id": "2b118447-db17-40cc-8384-436f4cbb86bb",
   "metadata": {},
   "source": [
    "### Python List vs NumPy array\n",
    "\n",
    "In python, there is a native object that allows us to deal with arrays / sets. This object is a `list`. We can have a list of numbers that represents a vector or an array, but lists also allow us to put any type of object into the list. "
   ]
  },
  {
   "cell_type": "code",
   "execution_count": null,
   "id": "3e6d0d1f-0f89-4121-aa8a-2005b073416f",
   "metadata": {},
   "outputs": [],
   "source": [
    "x = [1, 2, 'a', np]"
   ]
  },
  {
   "cell_type": "markdown",
   "id": "61d68f7e-4bea-4e9d-ae16-7b9efa829380",
   "metadata": {},
   "source": [
    "An array (or a NumPy array), on the otherhand, can only use a single type of primitive object, usually a numeric."
   ]
  },
  {
   "cell_type": "code",
   "execution_count": null,
   "id": "81bb1263-8c89-4d55-bec7-42deb8e6bb0e",
   "metadata": {},
   "outputs": [],
   "source": [
    "x = np.array([1, 2, 6.2, -0.1])  # Vector in R^4\n",
    "y = np.array([[1, 2, 3],[5, 4, 1], [0, 10, 0]])  # Matrix in R^3x3\n",
    "z = np.array([[[1, 2, 3],[5, 4, 1], [0, 10, 0]],[[9, 8, 7],[6, 5, 4], [3, 2, 1]]])  # \"tensor\" in R^2x3x3\n",
    "\n",
    "print(\"Shape: \" + str(z.shape))\n",
    "print()\n",
    "print(z)"
   ]
  },
  {
   "cell_type": "markdown",
   "id": "a0318f74-b10a-4b7e-b83e-f9cd64fac00c",
   "metadata": {},
   "source": [
    "Like lists, we can access the elements of the array by using square brackets. **Remember that Python is 0 indexed rather than 1 indexed**"
   ]
  },
  {
   "cell_type": "code",
   "execution_count": null,
   "id": "971d43ff-7ee6-4bda-8c23-f15bb5ff3c65",
   "metadata": {},
   "outputs": [],
   "source": [
    "print(z[0])"
   ]
  },
  {
   "cell_type": "markdown",
   "id": "e9d2de42-d5d7-4ffd-ae15-d3ad0d222d85",
   "metadata": {},
   "source": [
    "### Creating Arrays \n",
    "\n",
    "There are many different ways one can create an array. Here are some that might be useful: "
   ]
  },
  {
   "cell_type": "code",
   "execution_count": null,
   "id": "bf914e35-ea14-4b8b-9ac8-fa38d0f37e65",
   "metadata": {},
   "outputs": [],
   "source": [
    "# Create \"manually\": \n",
    "print(\"np.array([1, 2, 3]): \" + str(np.array([1, 2, 3])), end = '\\n\\n')\n",
    "\n",
    "# Fill in with zeros, here 0 \\in R^2x3 \n",
    "print(\"np.zeros([2, 3]): \\n\" + str(np.zeros([2, 3])), end = '\\n\\n')\n",
    "\n",
    "# Fill in with ones\n",
    "print(\"np.ones(10): \" + str(np.ones(10)))\n",
    "\n",
    "# Create an empy array (slightly faster than creating zeros)\n",
    "print(\"np.empty(5): \" + str(np.empty(5)))\n",
    "\n",
    "# Create a range of values: \n",
    "print(\"np.arange(5): \" + str(np.arange(5)))\n",
    "\n",
    "# Custom evenly spaced values\n",
    "print(\"np.arange(1, 25, 3): \" + str(np.arange(1, 25, 3)))\n",
    "\n",
    "# Get specified number of evenly spaced values within an interval:\n",
    "print(\"np.linspace(0, 0.5, num=8): \" + str(np.linspace(0, 0.5, num=8)))\n",
    "\n",
    "# Specifying your datatype: (default is np.float64)\n",
    "print(\"np.ones(10, dtype=np.int64): \" + str(np.ones(10, dtype=np.int64)))"
   ]
  },
  {
   "cell_type": "markdown",
   "id": "35145745-afe0-4196-bd6b-0c0c0ed0cb24",
   "metadata": {},
   "source": [
    "#### sorting elements"
   ]
  },
  {
   "cell_type": "code",
   "execution_count": null,
   "id": "be7b535c-b531-4b04-94da-0a5c842d59f2",
   "metadata": {},
   "outputs": [],
   "source": [
    "# To sort: \n",
    "x = np.array([2, 1, 5, 3, 7, 4, 6, 8])\n",
    "print(x)\n",
    "\n",
    "print(np.sort(x))\n",
    "\n",
    "# Note that this didn't modify x:\n",
    "print(x)\n",
    "\n",
    "# However, this will modify x: \n",
    "x.sort()\n",
    "print(x)"
   ]
  },
  {
   "cell_type": "code",
   "execution_count": null,
   "id": "07b755b9-72cd-4475-b54a-444b6741465d",
   "metadata": {},
   "outputs": [],
   "source": [
    "# Also of interest could be argsort, which tells you the index of the sorted elements: \n",
    "x = np.array([2, 1, 5, 3, 7, 4, 6, 8])\n",
    "print(np.argsort(x))"
   ]
  },
  {
   "cell_type": "markdown",
   "id": "0f406892-ee5f-41ce-b4c6-89b6a694270d",
   "metadata": {},
   "source": [
    "#### Combining arrays"
   ]
  },
  {
   "cell_type": "code",
   "execution_count": null,
   "id": "af759bc0-2d99-4047-9b26-3625736c0d7e",
   "metadata": {},
   "outputs": [],
   "source": [
    "a = np.array([1, 2, 3])\n",
    "b = np.array([4, 5, 6])\n",
    "np.concatenate((a, b))"
   ]
  },
  {
   "cell_type": "markdown",
   "id": "2296bcbf-5716-44de-818e-6a8d15079791",
   "metadata": {},
   "source": [
    "#### investigating arrays\n",
    "\n",
    "we might want to check to see if the arrays are of the correct dimension. "
   ]
  },
  {
   "cell_type": "code",
   "execution_count": null,
   "id": "3268c67d-5120-4e4f-bcf0-5a527c8895b4",
   "metadata": {},
   "outputs": [],
   "source": [
    "x = np.array([\n",
    "    [[0, 1, 2, 3],\n",
    "     [4, 5, 6, 7]],\n",
    "               \n",
    "    [[0, 1, 2, 3],\n",
    "     [4, 5, 6, 7]],\n",
    "\n",
    "    [[0 ,1 ,2, 3],\n",
    "    [4, 5, 6, 7]]\n",
    "])\n",
    "\n",
    "print(x.ndim)  # number of dimensions \n",
    "print(x.shape)  # shape of the array\n",
    "print(x.size)  # total number of elements"
   ]
  },
  {
   "cell_type": "markdown",
   "id": "f6b3bb77",
   "metadata": {},
   "source": [
    "Other useful operations: "
   ]
  },
  {
   "cell_type": "code",
   "execution_count": null,
   "id": "034e9842",
   "metadata": {},
   "outputs": [],
   "source": [
    "print(x.sum())\n",
    "print(x.min())\n",
    "print(x.max())\n",
    "print(x.mean())\n",
    "\n",
    "y = np.array([\n",
    "    [1, 2],\n",
    "    [3, 4],\n",
    "    [5, 6]\n",
    "])\n",
    "\n",
    "print(y.max(axis=1))\n",
    "print(y.max(axis=0))"
   ]
  },
  {
   "cell_type": "markdown",
   "id": "8d23b532-4e70-489e-b5a7-b5e05ff40ed4",
   "metadata": {},
   "source": [
    "#### Reshaping an array "
   ]
  },
  {
   "cell_type": "code",
   "execution_count": null,
   "id": "02fa4526-3133-4c63-b59e-2f92a444db4a",
   "metadata": {},
   "outputs": [],
   "source": [
    "x = np.arange(6)\n",
    "print(x, end = '\\n\\n')\n",
    "\n",
    "b = x.reshape(3, 2)\n",
    "print(b, end = '\\n\\n')\n",
    "\n",
    "c = x.reshape(3, 2, order='F')  # order='C' for C-like is default, order='F' for Fortran-like. \n",
    "print(c)"
   ]
  },
  {
   "cell_type": "code",
   "execution_count": null,
   "id": "4d044fda-123f-4fa6-a47d-08dc08dba016",
   "metadata": {},
   "outputs": [],
   "source": [
    "a = np.arange(6)\n",
    "print(a.shape)\n",
    "\n",
    "# Add a new axis \n",
    "a2 = a[:, np.newaxis]\n",
    "print(a2.shape)\n",
    "\n",
    "# Alternative method \n",
    "a3 = np.expand_dims(a, axis = 0)\n",
    "print(a3.shape)"
   ]
  },
  {
   "cell_type": "markdown",
   "id": "c4d5a700-b197-43f7-8de4-04cab9877092",
   "metadata": {},
   "source": [
    "#### Indexing and slicing "
   ]
  },
  {
   "cell_type": "code",
   "execution_count": null,
   "id": "0e7d932f-c8a7-455b-9a9d-918edcc967f4",
   "metadata": {},
   "outputs": [],
   "source": [
    "data = np.array([1, 2, 3, 4, 5, 6])\n",
    "\n",
    "print(data[1])\n",
    "print(data[0:2])\n",
    "print(data[1:])\n",
    "print(data[-2:])"
   ]
  },
  {
   "cell_type": "markdown",
   "id": "f4bce134-c8e1-45d8-9b2c-371ff7298f26",
   "metadata": {},
   "source": [
    "#### Selecting by conditions"
   ]
  },
  {
   "cell_type": "code",
   "execution_count": null,
   "id": "d7dc2e7f-0ff4-4448-8cdd-55c2f4adeb38",
   "metadata": {},
   "outputs": [],
   "source": [
    "a = np.array([[1 , 2, 3, 4], [5, 6, 7, 8], [9, 10, 11, 12]])\n",
    "print(a, end = '\\n\\n')\n",
    "\n",
    "print(a[a < 5], end = '\\n\\n')\n",
    "five_up = (a >= 5)\n",
    "print(five_up, end = '\\n\\n')\n",
    "print(a[five_up], end = '\\n\\n')\n",
    "\n",
    "c = a[(a > 2) & (a < 11)]\n",
    "print(c)"
   ]
  },
  {
   "cell_type": "markdown",
   "id": "6986902f",
   "metadata": {},
   "source": [
    "### Broadcasting \n",
    "\n",
    "Broadcasting is used in both `R` and `numpy`, basically it allows us to do operations on arrays of different sizes:"
   ]
  },
  {
   "cell_type": "code",
   "execution_count": null,
   "id": "49e1a517",
   "metadata": {},
   "outputs": [],
   "source": [
    "miles = np.array([1.0, 2.0, 3.0, 3.1])\n",
    "km = 1.60934 * miles\n",
    "print(km)\n",
    "\n",
    "# To broadcast, they have to be the same size, or one of them is length 1. \n",
    "# a = np.array([1, 2])\n",
    "# print(a * miles)"
   ]
  },
  {
   "cell_type": "markdown",
   "id": "b2e88afa-ddab-46a4-8b00-3585c39b1150",
   "metadata": {},
   "source": [
    "## Matrix Multiplication"
   ]
  },
  {
   "cell_type": "code",
   "execution_count": null,
   "id": "726b4f17",
   "metadata": {},
   "outputs": [],
   "source": [
    "# Generate some random numbers: \n",
    "err = np.random.normal(loc=0.0, scale=1.0, size=50)\n",
    "\n",
    "x = np.random.multivariate_normal(\n",
    "    mean=np.array([2, 0, -2]), \n",
    "    cov=np.array([[1, 0.1, 0],[0.1, 1.2, -0.1],[0, -0.1, 0.9]]),\n",
    "    size=50\n",
    ")\n",
    "\n",
    "# set coefficients\n",
    "beta = np.array([-1, 1, 3])\n",
    "\n",
    "# Get Y as Y = Xb + e\n",
    "y = np.matmul(x, beta) + err\n",
    "\n",
    "print(err.shape)\n",
    "print(x.shape)\n",
    "print(beta.shape)\n",
    "print(y.shape)\n",
    "\n",
    "# Notice how I didn't need to force the 1d arrays into a matrix shape like 50x1"
   ]
  },
  {
   "cell_type": "code",
   "execution_count": null,
   "id": "fb3a54c9",
   "metadata": {},
   "outputs": [],
   "source": [
    "# Alternatively, we can use the following short-hand for matrix multiplication: \n",
    "y1 = x @ beta + err\n",
    "\n",
    "print(y[0:5])\n",
    "print(y1[0:5])"
   ]
  },
  {
   "cell_type": "markdown",
   "id": "a315bcac",
   "metadata": {},
   "source": [
    "#### Setting the random seed. \n",
    "\n",
    "The recommended approach for setting the random seed in numpy has changed recently. Previously (most examples you see), the recommended approach was to set a global seed: \n",
    "\n",
    "```\n",
    "np.random.seed(2021)\n",
    "np.random.normal(size=50)\n",
    "```\n",
    "\n",
    "You can still do this, but according to the function documentation, this is now deprecated. Instead, it is recommended you do the following:"
   ]
  },
  {
   "cell_type": "code",
   "execution_count": null,
   "id": "00125736",
   "metadata": {},
   "outputs": [],
   "source": [
    "# Set the seed for random number generation: \n",
    "rng = np.random.default_rng(123)\n",
    "rng2 = np.random.default_rng(123)\n",
    "\n",
    "print(rng.normal(size = 10), end = '\\n\\n')\n",
    "print(rng.normal(size = 10), end = '\\n\\n\\n')\n",
    "\n",
    "print(rng2.normal(size = 10), end = '\\n\\n')\n",
    "print(rng2.normal(size = 10))"
   ]
  },
  {
   "cell_type": "markdown",
   "id": "8b8f5814-201c-444e-b7f8-1738dc597e69",
   "metadata": {},
   "source": [
    "## Vectorized code \n",
    "\n",
    "One major benefit to using NumPy is that it permits us to take advantage of \"vectorized code\". The idea is that because everything in a numpy array is of the same primitive type, Python can perform operations \"knowing\" the type object that is comming up next. This allows NumPy to use compiled C code rather than Python, which is much faster. An example is summing over an array: you can write a for loop to do this, or you can use a vectorized operation in NumPy to do this faster: "
   ]
  },
  {
   "cell_type": "code",
   "execution_count": null,
   "id": "d4afbca0",
   "metadata": {},
   "outputs": [],
   "source": [
    "rng = np.random.default_rng(123)\n",
    "x = rng.random(100000)\n",
    "\n",
    "def sum1(x):\n",
    "    return(x.sum())\n",
    "\n",
    "def sum2(x):\n",
    "    tot = 0\n",
    "    for i in x:\n",
    "        tot += i\n",
    "    return(tot)"
   ]
  },
  {
   "cell_type": "code",
   "execution_count": null,
   "id": "9bd27bb5",
   "metadata": {},
   "outputs": [],
   "source": [
    "%timeit sum1(x)"
   ]
  },
  {
   "cell_type": "code",
   "execution_count": null,
   "id": "2ae4e531",
   "metadata": {},
   "outputs": [],
   "source": [
    "%timeit sum2(x)"
   ]
  },
  {
   "cell_type": "code",
   "execution_count": null,
   "id": "9c791398",
   "metadata": {},
   "outputs": [],
   "source": [
    "sum2(x) == sum1(x)  # Not only is it faster, but it's more accurate as well. "
   ]
  },
  {
   "cell_type": "markdown",
   "id": "12cf8e92",
   "metadata": {},
   "source": [
    "The basic idea for vectorized code in NumPy is that if there is a built-in function in NumPy to do something, you should use that function rather than doing a for-loop. Here are some basic functions that you can do vectorized in NumPy: \n",
    "\n",
    "```\n",
    "# Unary functions: \n",
    "np.absolute\n",
    "np.sqrt\n",
    "np.sin\n",
    "np.cos\n",
    "np.tan\n",
    "np.log\n",
    "np.log10\n",
    "np.log2\n",
    "np.exp\n",
    "\n",
    "# Binary functions: \n",
    "np.multiply  # same as *\n",
    "np.divide    # same as / \n",
    "np.add       # same as + \n",
    "np.subtract  # same as - \n",
    "np.power     # same as ** \n",
    "np.mod       # same as % \n",
    "np.maximum(x, y) \n",
    "np.minimum(x, y) \n",
    "\n",
    "# Sequential functions: \n",
    "np.mean\n",
    "np.median\n",
    "np.var\n",
    "np.std\n",
    "np.max\n",
    "np.min\n",
    "np.argmax\n",
    "np.argmin\n",
    "np.sum\n",
    "```"
   ]
  },
  {
   "cell_type": "markdown",
   "id": "2eb33818-b0e5-4073-87fe-4595d7d26a2b",
   "metadata": {},
   "source": [
    "## Example: linear regression \n",
    "\n",
    "Let's look at the linear regression example a bit more closely. We have generated data:\n",
    "\n",
    "$$\n",
    "Y_i = X_i\\beta + e_i\n",
    "$$\n",
    "\n",
    "So now let's use NumPy to efficiently estimate $\\beta$. To do this, we will use a simple MSE loss function: \n",
    "\n",
    "$$\n",
    "L(\\beta) = MSE = \\frac{1}{n}\\sum_{i = 0}^{n - 1} \\left(Y_i - \\hat{Y}_i\\right)^2 \n",
    "$$\n",
    "\n",
    "(Using 0-index because that's what Python uses). \n",
    "\n",
    "We can also look at the derivative of this loss function. Some simple calculus gives: \n",
    "\n",
    "$$\n",
    "\\frac{\\partial L}{\\partial \\beta} = \\frac{2}{n} \\left[X^TX\\beta - X^TY \\right]\n",
    "$$"
   ]
  },
  {
   "cell_type": "code",
   "execution_count": null,
   "id": "5d256c14-6a15-4e6b-9bcc-8d4853b1fbed",
   "metadata": {},
   "outputs": [],
   "source": [
    "rng = np.random.default_rng(123)\n",
    "\n",
    "e = rng.normal(loc=0.0, scale=1.0, size=50)\n",
    "\n",
    "X = rng.multivariate_normal(\n",
    "    mean=np.array([2, 0, -2]), \n",
    "    cov=np.array([[1, 0.1, 0],[0.1, 1.2, -0.1],[0, -0.1, 0.9]]),\n",
    "    size=50\n",
    ")\n",
    "\n",
    "# set coefficients\n",
    "beta = np.array([-1, 1, 3])\n",
    "\n",
    "# Get Y as Y = Xb + e\n",
    "Y = np.matmul(X, beta) + e"
   ]
  },
  {
   "cell_type": "code",
   "execution_count": null,
   "id": "7cfb9cb0",
   "metadata": {},
   "outputs": [],
   "source": [
    "def MSE(beta, X = X, Y = Y): \n",
    "    n = Y.shape[0]\n",
    "    preds = X @ beta\n",
    "    return( (1/n) * np.sum(np.square(preds - Y)) )\n",
    "\n",
    "def deriv(beta, X = X, Y = Y):\n",
    "    n = Y.shape[0]\n",
    "    return((2 / n) * (X.T @ (X @ beta) - X.T @ Y))"
   ]
  },
  {
   "cell_type": "code",
   "execution_count": null,
   "id": "b869b6df",
   "metadata": {},
   "outputs": [],
   "source": [
    "deriv(np.array([0, 0, 0]))"
   ]
  },
  {
   "cell_type": "code",
   "execution_count": null,
   "id": "f03688a2",
   "metadata": {},
   "outputs": [],
   "source": [
    "from scipy.optimize import minimize\n",
    "from scipy.optimize import check_grad \n",
    "\n",
    "# Should be close to zero, it's comparing the MSE of linear approximation to gradient and the provided function. \n",
    "check_grad(lambda b: MSE(beta = b), lambda b: deriv(beta = b), np.random.rand(3))"
   ]
  },
  {
   "cell_type": "markdown",
   "id": "3c0969c7",
   "metadata": {},
   "source": [
    "### Numeric optimization of the loss, without gradient"
   ]
  },
  {
   "cell_type": "code",
   "execution_count": null,
   "id": "ed2ab5bb",
   "metadata": {},
   "outputs": [],
   "source": [
    "res = minimize(lambda b: MSE(b, X = X, Y = Y), np.zeros(3))"
   ]
  },
  {
   "cell_type": "code",
   "execution_count": null,
   "id": "66282a36",
   "metadata": {},
   "outputs": [],
   "source": [
    "res.x"
   ]
  },
  {
   "cell_type": "markdown",
   "id": "7df96ae7",
   "metadata": {},
   "source": [
    "### Numeric optimization of the loss, with the gradient "
   ]
  },
  {
   "cell_type": "code",
   "execution_count": null,
   "id": "a5e63c6b",
   "metadata": {},
   "outputs": [],
   "source": [
    "res2 = minimize(lambda b: MSE(b, X = X, Y = Y), np.zeros(3), jac=lambda b: deriv(b, X = X, Y = Y))"
   ]
  },
  {
   "cell_type": "code",
   "execution_count": null,
   "id": "dc85f4f2",
   "metadata": {},
   "outputs": [],
   "source": [
    "res2.x"
   ]
  },
  {
   "cell_type": "markdown",
   "id": "654f03b3",
   "metadata": {},
   "source": [
    "### Get the true minimum\n",
    "\n",
    "In this case, there is a closed form solution for the true minimum. Let's compare that to the numeric solution:"
   ]
  },
  {
   "cell_type": "code",
   "execution_count": null,
   "id": "f2edebde",
   "metadata": {},
   "outputs": [],
   "source": [
    "res3 = np.linalg.inv(X.T @ X) @ (X.T @ Y)"
   ]
  },
  {
   "cell_type": "code",
   "execution_count": null,
   "id": "524299ae",
   "metadata": {},
   "outputs": [],
   "source": [
    "res3"
   ]
  },
  {
   "cell_type": "code",
   "execution_count": null,
   "id": "fb8168a9",
   "metadata": {},
   "outputs": [],
   "source": [
    "np.sum(np.square(res3 - res.x)) / 3"
   ]
  },
  {
   "cell_type": "code",
   "execution_count": null,
   "id": "afd9ed29",
   "metadata": {},
   "outputs": [],
   "source": [
    "np.sum(np.square(res3 - res2.x)) / 3"
   ]
  },
  {
   "cell_type": "code",
   "execution_count": null,
   "id": "7c35c9bb",
   "metadata": {},
   "outputs": [],
   "source": []
  }
 ],
 "metadata": {
  "kernelspec": {
   "display_name": "Python 3 (ipykernel)",
   "language": "python",
   "name": "python3"
  },
  "language_info": {
   "codemirror_mode": {
    "name": "ipython",
    "version": 3
   },
   "file_extension": ".py",
   "mimetype": "text/x-python",
   "name": "python",
   "nbconvert_exporter": "python",
   "pygments_lexer": "ipython3",
   "version": "3.11.0"
  }
 },
 "nbformat": 4,
 "nbformat_minor": 5
}
