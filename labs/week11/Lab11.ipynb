{
 "cells": [
  {
   "cell_type": "markdown",
   "id": "604a7e64-4362-4c94-93f2-ece8d4976c62",
   "metadata": {},
   "source": [
    "# Lab 11: Intro to python and numpy "
   ]
  },
  {
   "cell_type": "markdown",
   "id": "ac9b79c8-a51d-4788-a588-b1c6ef70b65c",
   "metadata": {},
   "source": [
    "## Announcements \n",
    "\n",
    "- HW3 is posted, due Nov 15. "
   ]
  },
  {
   "cell_type": "markdown",
   "id": "cf44ba34-23ee-4630-b2b1-d70d4724ebf9",
   "metadata": {},
   "source": [
    "## Python\n",
    "\n",
    "Today we are going to try to do a brief introduction of Python and `numpy` hopefully these topics aren't entirely new to you, but we are going to try to start from the beginning. \n",
    "\n",
    "### Installing Python \n",
    "\n",
    "- Unlike `R`, there are actually many different python distributions out there, so there are multiple ways that one could install python.\n",
    "- The first is going straight to the source: [https://www.python.org/downloads/](https://www.python.org/downloads/).\n",
    "- Alternatively, we can use a distribution like Anaconda/Miniconda. \n",
    "\n",
    "### Package managers\n",
    "\n",
    "- The default package manager is `pip`. This comes with most python distributions. You can install packages by running something on the command line like `pip install numpy`.\n",
    "- There are more sophisticated package managers that give more flexibility. The most popular example is `conda`, which comes with Anaconda / Miniconda.\n",
    "- To install a package using conda, it's just as simple! `conda install numpy`.\n",
    "\n",
    "### What exactly is conda? \n",
    "\n",
    "- conda can be used to install packages, but in reality it is a way to manage (virtual) *environments*.\n",
    "- A virtual environment is a tool that helps to keep dependencies required by different projects separate by creating isolated spaces for them that contain per-project dependencies for them.\n",
    "- Idea: the package version of numpy I want to use for `project1` might not be the same that I use for `project2`; even more extreme, the version of python I want use for one project might not be the same as the version I use for another project.\n",
    "\n",
    "The desire for a feature like this isn't unique to python programming, you can imagine that you want this feature for other programming languages (including R) as well. So why is this such a native thing to python and not so much in R? My thoughts: \n",
    "\n",
    "- Python is used much more frequently in production, so code that was made many years ago that is still running important processes might be running older versions of Python. Rather than updated an entire system, it might be easier to just keep working with older versions.\n",
    "- Python version updates are much more \"severe\". For example, python 3 came out in 2008, and it is almost entirely a different programing language than python 2, and nearly all python 2 code won't be able to run using python 3. Therefore it is necessary to enable people to use both python 2 (for old existing systems) and python 3 (for new systems). The only time R had an update this drastic it actually changed from the S programming language (S for \"S\"tatistics) to R (\"R\" because it is the letter before \"S\").\n",
    "\n",
    "### Anaconda vs Miniconda \n",
    "\n",
    "- conda is the environment manager that is used by both miniconda and Anaconda.\n",
    "- miniconda is very light-weight, as it comes just with a version of Python, and the conda package manager.\n",
    "- Anacond comes with the environment manager, but also comes with 1500+ of pythons most popular packages already installed.\n",
    "\n",
    "You're free to use whatever you want (anaconda, miniconda, or neither of them). Personally I recommend learning a little bit about miniconda and using that. \n",
    "\n",
    "### Installing Miniconda \n",
    "\n",
    "Installing conda is incredibly simple. There are some instructions on how to do this [here](https://docs.conda.io/projects/miniconda/en/latest/index.html). Basically there are a few commands that it suggests you type in the command line that will download, install, and set-up miniconda for you. \n",
    "\n",
    "### Using environments \n",
    "\n",
    "conda makes it really easy to use different lightweight environments for various projects. For example, you could create a specific environment for this class: \n",
    "\n",
    "```\n",
    "conda create --name stats604\n",
    "```\n",
    "\n",
    "This command will create a conda environment called stats604. Because I didn't give it any specific arguments, it will simply set up with environment with the same version of python that your base environment uses, and it doesn't install any packages. To use this environment, you need to *activate* it: \n",
    "\n",
    "```\n",
    "conda activate stats604\n",
    "```\n",
    "\n",
    "To check which environments exist, you can type: \n",
    "\n",
    "```\n",
    "conda info --envs\n",
    "```\n",
    "\n",
    "There will be an asterisk by the current active environment. You can install packages into your current environment using: \n",
    "\n",
    "```\n",
    "conda install numpy\n",
    "```\n",
    "\n",
    "Finally, let's install jupyter on our new environment so that we can use jupyter-notebooks: \n",
    "\n",
    "```\n",
    "conda install -c conda-forge jupyter\n",
    "```\n",
    "\n",
    "Here we see something extra added to the install command: \n",
    "\n",
    "- `-c` option is shorthand for `--channel` and is used to specify where to look (online) for a certain pacakge.\n",
    "- `conda-forge` is an online package repository, similar to `CRAN` in `R`. `conda-forge` is a community run repository. The default repository is ` https://conda.anaconda.org/`. Here the only reason I specified `conda-forge`, is because that was what is [recommended by the creators of `jupyter`](https://jupyter.org/install).\n",
    "\n",
    "Once jupyter is installed, we can run a jupyter-notebook by running the command \n",
    "```\n",
    "jupyter-notebook\n",
    "```\n",
    "\n",
    "Finally, you can create as many environments as you want, and share them with others! This is a great way to make super reproducible code: you can create an enviroment with specific versions of python and packages, and then share the environment itself with the code that you submit to a journal. This way, all someone has to do is use conda to install your environment, and then they should be able to run your code even if there are updates to python or package versions.\n",
    "\n",
    "\n",
    "While conda is primarily designed as a tool for python, the Anaconda distribution also includes all major versions of R, and most of the very popular R packages. This means that you could also use conda to manage a reproducible R project. Unfortunately, many R packages are not available on Anaconda, which means that this isn't always a perfect solution. (look at [renv](https://rstudio.github.io/renv/articles/renv.html) instead). "
   ]
  },
  {
   "cell_type": "markdown",
   "id": "8be75bd6-89f4-4a48-bec5-8bd724378470",
   "metadata": {},
   "source": [
    "## NumPy\n",
    "\n",
    "NumPy (which stands for Numerical Python) is an open source Python library used for scientific computing. This is perhaps the most widely used Python library, and it is standard for working with numerical data in Pyhton. Many other popular libraries are built using NumPy, for example, Pandas, SciPy, Matplotlib, and scikit-learn all rely on NumPy. \n",
    "\n",
    "NumPy primarly gives users the ability to do numeric matrix / array calculations, which isn't a native feature in Python. It's really fast by requiring that the elements of an array be the same data type. This allows for many NumPy operations to be implemented in C, avoiding some of the overhead costs associated with an interpreted programming language such as Python. \n",
    "\n",
    "To use NumPy, or any other python library, we use the import statement: \n",
    "\n",
    "```\n",
    "import numpy\n",
    "```\n",
    "\n",
    "However, because NumPy is so frequently used, and we have to call its name everytime we want to use it, we often abbreviate it as:\n",
    "\n",
    "```\n",
    "import numpy as np\n",
    "```"
   ]
  },
  {
   "cell_type": "code",
   "execution_count": 1,
   "id": "2aac0019-0067-4eda-ae47-9a9bd6ec0627",
   "metadata": {},
   "outputs": [],
   "source": [
    "import numpy as np\n",
    "import time"
   ]
  },
  {
   "cell_type": "markdown",
   "id": "2b118447-db17-40cc-8384-436f4cbb86bb",
   "metadata": {},
   "source": [
    "### Python List vs NumPy array\n",
    "\n",
    "In python, there is a native object that allows us to deal with arrays / sets. This object is a `list`. We can have a list of numbers that represents a vector or an array, but lists also allow us to put any type of object into the list. "
   ]
  },
  {
   "cell_type": "code",
   "execution_count": 4,
   "id": "3e6d0d1f-0f89-4121-aa8a-2005b073416f",
   "metadata": {},
   "outputs": [],
   "source": [
    "x = [1, 2, 'a', np]"
   ]
  },
  {
   "cell_type": "markdown",
   "id": "61d68f7e-4bea-4e9d-ae16-7b9efa829380",
   "metadata": {},
   "source": [
    "An array (or a NumPy array), on the otherhand, can only use a single type of primitive object, usually a numeric."
   ]
  },
  {
   "cell_type": "code",
   "execution_count": 33,
   "id": "81bb1263-8c89-4d55-bec7-42deb8e6bb0e",
   "metadata": {},
   "outputs": [
    {
     "name": "stdout",
     "output_type": "stream",
     "text": [
      "Shape: (2, 3, 3)\n",
      "\n",
      "[[[ 1  2  3]\n",
      "  [ 5  4  1]\n",
      "  [ 0 10  0]]\n",
      "\n",
      " [[ 9  8  7]\n",
      "  [ 6  5  4]\n",
      "  [ 3  2  1]]]\n"
     ]
    }
   ],
   "source": [
    "x = np.array([1, 2, 6.2, -0.1])  # Vector in R^4\n",
    "y = np.array([[1, 2, 3],[5, 4, 1], [0, 10, 0]])  # Matrix in R^3x3\n",
    "z = np.array([[[1, 2, 3],[5, 4, 1], [0, 10, 0]],[[9, 8, 7],[6, 5, 4], [3, 2, 1]]])  # \"tensor\" in R^2x3x3\n",
    "\n",
    "print(\"Shape: \" + str(z.shape))\n",
    "print()\n",
    "print(z)"
   ]
  },
  {
   "cell_type": "markdown",
   "id": "a0318f74-b10a-4b7e-b83e-f9cd64fac00c",
   "metadata": {},
   "source": [
    "Like lists, we can access the elements of the array by using square brackets. **Remember that Python is 0 indexed rather than 1 indexed**"
   ]
  },
  {
   "cell_type": "code",
   "execution_count": 26,
   "id": "971d43ff-7ee6-4bda-8c23-f15bb5ff3c65",
   "metadata": {},
   "outputs": [
    {
     "name": "stdout",
     "output_type": "stream",
     "text": [
      "[[ 1  2  3]\n",
      " [ 5  4  1]\n",
      " [ 0 10  0]]\n"
     ]
    }
   ],
   "source": [
    "print(z[0])"
   ]
  },
  {
   "cell_type": "markdown",
   "id": "e9d2de42-d5d7-4ffd-ae15-d3ad0d222d85",
   "metadata": {},
   "source": [
    "### Creating Arrays \n",
    "\n",
    "There are many different ways one can create an array. Here are some that might be useful: "
   ]
  },
  {
   "cell_type": "code",
   "execution_count": 56,
   "id": "bf914e35-ea14-4b8b-9ac8-fa38d0f37e65",
   "metadata": {},
   "outputs": [
    {
     "name": "stdout",
     "output_type": "stream",
     "text": [
      "np.array([1, 2, 3]): [1 2 3]\n",
      "\n",
      "np.zeros([2, 3]): \n",
      "[[0. 0. 0.]\n",
      " [0. 0. 0.]]\n",
      "\n",
      "np.ones(10): [1. 1. 1. 1. 1. 1. 1. 1. 1. 1.]\n",
      "np.empty(5): [0.0e+000 4.9e-324 9.9e-324 1.5e-323 2.0e-323]\n",
      "np.arange(5): [0 1 2 3 4]\n",
      "np.arange(1, 25, 3): [ 1  4  7 10 13 16 19 22]\n",
      "np.linspace(0, 0.5, num=8): [0.         0.07142857 0.14285714 0.21428571 0.28571429 0.35714286\n",
      " 0.42857143 0.5       ]\n",
      "np.ones(10, dtype=np.int64): [1 1 1 1 1 1 1 1 1 1]\n"
     ]
    }
   ],
   "source": [
    "# Create \"manually\": \n",
    "print(\"np.array([1, 2, 3]): \" + str(np.array([1, 2, 3])), end = '\\n\\n')\n",
    "\n",
    "# Fill in with zeros, here 0 \\in R^2x3 \n",
    "print(\"np.zeros([2, 3]): \\n\" + str(np.zeros([2, 3])), end = '\\n\\n')\n",
    "\n",
    "# Fill in with ones\n",
    "print(\"np.ones(10): \" + str(np.ones(10)))\n",
    "\n",
    "# Create an empy array (slightly faster than creating zeros)\n",
    "print(\"np.empty(5): \" + str(np.empty(5)))\n",
    "\n",
    "# Create a range of values: \n",
    "print(\"np.arange(5): \" + str(np.arange(5)))\n",
    "\n",
    "# Custom evenly spaced values\n",
    "print(\"np.arange(1, 25, 3): \" + str(np.arange(1, 25, 3)))\n",
    "\n",
    "# Get specified number of evenly spaced values within an interval:\n",
    "print(\"np.linspace(0, 0.5, num=8): \" + str(np.linspace(0, 0.5, num=8)))\n",
    "\n",
    "# Specifying your datatype: (default is np.float64)\n",
    "print(\"np.ones(10, dtype=np.int64): \" + str(np.ones(10, dtype=np.int64)))"
   ]
  },
  {
   "cell_type": "markdown",
   "id": "35145745-afe0-4196-bd6b-0c0c0ed0cb24",
   "metadata": {},
   "source": [
    "#### sorting elements"
   ]
  },
  {
   "cell_type": "code",
   "execution_count": 67,
   "id": "be7b535c-b531-4b04-94da-0a5c842d59f2",
   "metadata": {},
   "outputs": [
    {
     "name": "stdout",
     "output_type": "stream",
     "text": [
      "[2 1 5 3 7 4 6 8]\n",
      "[1 2 3 4 5 6 7 8]\n",
      "[2 1 5 3 7 4 6 8]\n",
      "[1 2 3 4 5 6 7 8]\n"
     ]
    }
   ],
   "source": [
    "# To sort: \n",
    "x = np.array([2, 1, 5, 3, 7, 4, 6, 8])\n",
    "print(x)\n",
    "\n",
    "print(np.sort(x))\n",
    "\n",
    "# Note that this didn't modify x:\n",
    "print(x)\n",
    "\n",
    "# However, this will modify x: \n",
    "x.sort()\n",
    "print(x)"
   ]
  },
  {
   "cell_type": "code",
   "execution_count": 69,
   "id": "07b755b9-72cd-4475-b54a-444b6741465d",
   "metadata": {},
   "outputs": [
    {
     "name": "stdout",
     "output_type": "stream",
     "text": [
      "[1 0 3 5 2 6 4 7]\n"
     ]
    }
   ],
   "source": [
    "# Also of interest could be argsort, which tells you the index of the sorted elements: \n",
    "x = np.array([2, 1, 5, 3, 7, 4, 6, 8])\n",
    "print(np.argsort(x))"
   ]
  },
  {
   "cell_type": "markdown",
   "id": "0f406892-ee5f-41ce-b4c6-89b6a694270d",
   "metadata": {},
   "source": [
    "#### Combining arrays"
   ]
  },
  {
   "cell_type": "code",
   "execution_count": 70,
   "id": "af759bc0-2d99-4047-9b26-3625736c0d7e",
   "metadata": {},
   "outputs": [
    {
     "data": {
      "text/plain": [
       "array([1, 2, 3, 4, 5, 6])"
      ]
     },
     "execution_count": 70,
     "metadata": {},
     "output_type": "execute_result"
    }
   ],
   "source": [
    "a = np.array([1, 2, 3])\n",
    "b = np.array([4, 5, 6])\n",
    "np.concatenate((a, b))"
   ]
  },
  {
   "cell_type": "markdown",
   "id": "2296bcbf-5716-44de-818e-6a8d15079791",
   "metadata": {},
   "source": [
    "#### investigating arrays\n",
    "\n",
    "we might want to check to see if the arrays are of the correct dimension. "
   ]
  },
  {
   "cell_type": "code",
   "execution_count": 74,
   "id": "3268c67d-5120-4e4f-bcf0-5a527c8895b4",
   "metadata": {},
   "outputs": [
    {
     "name": "stdout",
     "output_type": "stream",
     "text": [
      "3\n",
      "(3, 2, 4)\n",
      "24\n"
     ]
    }
   ],
   "source": [
    "x = np.array([[[0, 1, 2, 3],\n",
    "                           [4, 5, 6, 7]],\n",
    "\n",
    "                          [[0, 1, 2, 3],\n",
    "                           [4, 5, 6, 7]],\n",
    "\n",
    "                          [[0 ,1 ,2, 3],\n",
    "                           [4, 5, 6, 7]]])\n",
    "\n",
    "print(x.ndim)  # number of dimensions \n",
    "print(x.shape)  # shape of the array\n",
    "print(x.size)  # total number of elements"
   ]
  },
  {
   "cell_type": "markdown",
   "id": "8d23b532-4e70-489e-b5a7-b5e05ff40ed4",
   "metadata": {},
   "source": [
    "#### Reshaping an array "
   ]
  },
  {
   "cell_type": "code",
   "execution_count": 82,
   "id": "02fa4526-3133-4c63-b59e-2f92a444db4a",
   "metadata": {},
   "outputs": [
    {
     "name": "stdout",
     "output_type": "stream",
     "text": [
      "[0 1 2 3 4 5]\n",
      "\n",
      "[[0 1]\n",
      " [2 3]\n",
      " [4 5]]\n",
      "\n",
      "[[0 3]\n",
      " [1 4]\n",
      " [2 5]]\n"
     ]
    }
   ],
   "source": [
    "x = np.arange(6)\n",
    "print(x, end = '\\n\\n')\n",
    "\n",
    "b = x.reshape(3, 2)\n",
    "print(b, end = '\\n\\n')\n",
    "\n",
    "c = x.reshape(3, 2, order='F')  # order='C' for C-like is default, order='F' for Fortran-like. \n",
    "print(c)"
   ]
  },
  {
   "cell_type": "code",
   "execution_count": 92,
   "id": "4d044fda-123f-4fa6-a47d-08dc08dba016",
   "metadata": {},
   "outputs": [
    {
     "name": "stdout",
     "output_type": "stream",
     "text": [
      "(6,)\n",
      "(6, 1)\n",
      "(1, 6)\n"
     ]
    }
   ],
   "source": [
    "a = np.arange(6)\n",
    "print(a.shape)\n",
    "\n",
    "# Add a new axis \n",
    "a2 = a[:, np.newaxis]\n",
    "print(a2.shape)\n",
    "\n",
    "# Alternative method \n",
    "a3 = np.expand_dims(a, axis = 0)\n",
    "print(a3.shape)"
   ]
  },
  {
   "cell_type": "markdown",
   "id": "c4d5a700-b197-43f7-8de4-04cab9877092",
   "metadata": {},
   "source": [
    "#### Indexing and slicing "
   ]
  },
  {
   "cell_type": "code",
   "execution_count": 94,
   "id": "0e7d932f-c8a7-455b-9a9d-918edcc967f4",
   "metadata": {},
   "outputs": [
    {
     "name": "stdout",
     "output_type": "stream",
     "text": [
      "2\n",
      "[1 2]\n",
      "[2 3 4 5 6]\n",
      "[5 6]\n"
     ]
    }
   ],
   "source": [
    "data = np.array([1, 2, 3, 4, 5, 6])\n",
    "\n",
    "print(data[1])\n",
    "print(data[0:2])\n",
    "print(data[1:])\n",
    "print(data[-2:])"
   ]
  },
  {
   "cell_type": "markdown",
   "id": "f4bce134-c8e1-45d8-9b2c-371ff7298f26",
   "metadata": {},
   "source": [
    "#### Selecting by conditions"
   ]
  },
  {
   "cell_type": "code",
   "execution_count": 98,
   "id": "d7dc2e7f-0ff4-4448-8cdd-55c2f4adeb38",
   "metadata": {},
   "outputs": [
    {
     "name": "stdout",
     "output_type": "stream",
     "text": [
      "[[ 1  2  3  4]\n",
      " [ 5  6  7  8]\n",
      " [ 9 10 11 12]]\n",
      "\n",
      "[1 2 3 4]\n",
      "\n",
      "[[False False False False]\n",
      " [ True  True  True  True]\n",
      " [ True  True  True  True]]\n",
      "\n",
      "[ 5  6  7  8  9 10 11 12]\n",
      "\n",
      "[ 3  4  5  6  7  8  9 10]\n"
     ]
    }
   ],
   "source": [
    "a = np.array([[1 , 2, 3, 4], [5, 6, 7, 8], [9, 10, 11, 12]])\n",
    "print(a, end = '\\n\\n')\n",
    "\n",
    "print(a[a < 5], end = '\\n\\n')\n",
    "five_up = (a >= 5)\n",
    "print(five_up, end = '\\n\\n')\n",
    "print(a[five_up], end = '\\n\\n')\n",
    "\n",
    "c = a[(a > 2) & (a < 11)]\n",
    "print(c)"
   ]
  },
  {
   "cell_type": "markdown",
   "id": "b2e88afa-ddab-46a4-8b00-3585c39b1150",
   "metadata": {},
   "source": [
    "## Matrix Multiplication"
   ]
  },
  {
   "cell_type": "markdown",
   "id": "8b8f5814-201c-444e-b7f8-1738dc597e69",
   "metadata": {},
   "source": [
    "## Vectorized code "
   ]
  },
  {
   "cell_type": "markdown",
   "id": "2eb33818-b0e5-4073-87fe-4595d7d26a2b",
   "metadata": {},
   "source": [
    "## Example relevant to HW"
   ]
  },
  {
   "cell_type": "code",
   "execution_count": null,
   "id": "5d256c14-6a15-4e6b-9bcc-8d4853b1fbed",
   "metadata": {},
   "outputs": [],
   "source": []
  }
 ],
 "metadata": {
  "kernelspec": {
   "display_name": "Python 3 (ipykernel)",
   "language": "python",
   "name": "python3"
  },
  "language_info": {
   "codemirror_mode": {
    "name": "ipython",
    "version": 3
   },
   "file_extension": ".py",
   "mimetype": "text/x-python",
   "name": "python",
   "nbconvert_exporter": "python",
   "pygments_lexer": "ipython3",
   "version": "3.12.0"
  }
 },
 "nbformat": 4,
 "nbformat_minor": 5
}
