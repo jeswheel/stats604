{
 "cells": [
  {
   "cell_type": "code",
   "execution_count": 4,
   "id": "86f9507e",
   "metadata": {
    "slideshow": {
     "slide_type": "notes"
    }
   },
   "outputs": [],
   "source": [
    "import numpy as np"
   ]
  },
  {
   "cell_type": "markdown",
   "id": "de70bd5f",
   "metadata": {
    "slideshow": {
     "slide_type": "slide"
    }
   },
   "source": [
    "## A simple one-layer neural network in Numpy\n",
    "We will study a multi-class classification problem where we learn a function $\\mathbb{P}(Y=i \\mid X=x)$.\n",
    "We will start from logistic regression and work our way up to a neural network with one hidden layer. "
   ]
  },
  {
   "cell_type": "code",
   "execution_count": 152,
   "id": "d8ee7d59",
   "metadata": {
    "slideshow": {
     "slide_type": "slide"
    }
   },
   "outputs": [],
   "source": [
    "from scipy.special import softmax\n",
    "\n",
    "def loss(W, b, x, y):\n",
    "    '''multinomial logistic loss.\n",
    "    \n",
    "    Args:\n",
    "        W: (k,p) parameters\n",
    "        b: (k,) bias\n",
    "        x: (p,) features\n",
    "        y: (k,) one-hot encoded feature vector\n",
    "    '''\n",
    "    return -y.dot(np.log(softmax(W @ x + b)))"
   ]
  },
  {
   "cell_type": "code",
   "execution_count": 167,
   "id": "7762b5f9",
   "metadata": {
    "slideshow": {
     "slide_type": "slide"
    }
   },
   "outputs": [
    {
     "name": "stderr",
     "output_type": "stream",
     "text": [
      "/tmp/ipykernel_1108685/2144502570.py:10: RuntimeWarning: divide by zero encountered in log\n",
      "  np.log(0) * 0\n",
      "/tmp/ipykernel_1108685/2144502570.py:10: RuntimeWarning: invalid value encountered in scalar multiply\n",
      "  np.log(0) * 0\n"
     ]
    },
    {
     "data": {
      "text/plain": [
       "nan"
      ]
     },
     "execution_count": 167,
     "metadata": {},
     "output_type": "execute_result"
    }
   ],
   "source": [
    "k = 10\n",
    "p = 784\n",
    "x = np.random.normal(size=p) \n",
    "W = np.random.normal(size=(k, p))\n",
    "b = np.random.normal(size=k) \n",
    "y = np.eye(k)[5]\n",
    "\n",
    "# loss(W * 1e8, b, x, y)\n",
    "\n",
    "\n",
    "\n"
   ]
  },
  {
   "cell_type": "markdown",
   "id": "bd1effd3",
   "metadata": {
    "slideshow": {
     "slide_type": "slide"
    }
   },
   "source": [
    "## Numerical stability\n",
    "This code will generate errors when $\\| W \\| \\gg 1$:"
   ]
  },
  {
   "cell_type": "code",
   "execution_count": 31,
   "id": "363f0096",
   "metadata": {},
   "outputs": [
    {
     "name": "stderr",
     "output_type": "stream",
     "text": [
      "/tmp/ipykernel_1108685/2512877317.py:12: RuntimeWarning: divide by zero encountered in log\n",
      "  return y.dot(np.log(softmax(W @ x + b)))\n"
     ]
    },
    {
     "data": {
      "text/plain": [
       "nan"
      ]
     },
     "execution_count": 31,
     "metadata": {},
     "output_type": "execute_result"
    }
   ],
   "source": [
    "loss(1e8 * W, b, x, y)  "
   ]
  },
  {
   "cell_type": "markdown",
   "id": "bf5fc4a8",
   "metadata": {
    "slideshow": {
     "slide_type": "slide"
    }
   },
   "source": [
    "This can (and does!) happen when performing numerical optimization. Fortunately, there is a trick:\n",
    "\n",
    "$$ [\\log \\operatorname{softmax}(v)]_i = \\log e^{v_i} - \\log \\sum_j e^{v_j}$$."
   ]
  },
  {
   "cell_type": "markdown",
   "id": "a376c67e",
   "metadata": {
    "slideshow": {
     "slide_type": "notes"
    }
   },
   "source": [
    "This is already implemented in the standard libraries:"
   ]
  },
  {
   "cell_type": "code",
   "execution_count": 168,
   "id": "57349443",
   "metadata": {
    "slideshow": {
     "slide_type": "slide"
    }
   },
   "outputs": [
    {
     "data": {
      "text/plain": [
       "array([-4.25901970e+09, -6.17605373e+09, -8.40512453e+09,  0.00000000e+00,\n",
       "       -2.69228638e+09, -6.50035452e+09, -3.05741633e+08, -6.20197977e+09,\n",
       "       -7.31958523e+09, -3.54697706e+09])"
      ]
     },
     "execution_count": 168,
     "metadata": {},
     "output_type": "execute_result"
    }
   ],
   "source": [
    "from scipy.special import log_softmax\n",
    "\n",
    "log_softmax(1e8 * W @ x)"
   ]
  },
  {
   "cell_type": "code",
   "execution_count": 169,
   "id": "b8c354a7",
   "metadata": {
    "slideshow": {
     "slide_type": "slide"
    }
   },
   "outputs": [
    {
     "data": {
      "text/plain": [
       "-6500354517.409864"
      ]
     },
     "execution_count": 169,
     "metadata": {},
     "output_type": "execute_result"
    }
   ],
   "source": [
    "def loss(W, b, x, y):\n",
    "    '''multinomial logistic loss.\n",
    "    \n",
    "    Args:\n",
    "        W: (p,k) parameters\n",
    "        b: (k,) bias\n",
    "        x: (p,) features\n",
    "        y: (k,) one-hot encoded feature vector\n",
    "    '''\n",
    "    return y.dot(log_softmax(W @ x + b))\n",
    "\n",
    "loss(1e8 * W, b, x, y)"
   ]
  },
  {
   "cell_type": "code",
   "execution_count": null,
   "id": "643c795e",
   "metadata": {},
   "outputs": [],
   "source": []
  },
  {
   "cell_type": "markdown",
   "id": "bd096ea2",
   "metadata": {
    "slideshow": {
     "slide_type": "notes"
    }
   },
   "source": [
    "The current \"network\" looks like:\n",
    "    \n",
    "$$\\mathbb{P}(Y \\mid X=x, \\boldsymbol{\\beta}) = f(W x + b)$$\n",
    "\n",
    "where $f=\\operatorname{softmax}$.\n",
    "\n",
    "Now we will generalize it:\n",
    "\n",
    "$$\n",
    "\\begin{align}\n",
    "h &= f_1(W_1 x + b_1) \\\\\n",
    "\\mathbb{P}(Y \\mid X=x, \\boldsymbol{\\beta}) &= f_2(W_2 h + b_2)\n",
    "\\end{align}\n",
    "$$\n",
    "\n",
    "where $f_1,f_2$ are appropriate functions."
   ]
  },
  {
   "cell_type": "code",
   "execution_count": 186,
   "id": "a0dfdae5",
   "metadata": {
    "slideshow": {
     "slide_type": "slide"
    }
   },
   "outputs": [
    {
     "data": {
      "text/plain": [
       "106.40094663171581"
      ]
     },
     "execution_count": 186,
     "metadata": {},
     "output_type": "execute_result"
    }
   ],
   "source": [
    "def relu(x):\n",
    "    return np.maximum(0, x)\n",
    "\n",
    "def loss(W1, b1, W2, b2, x, y):\n",
    "    '''one-layer neural net.\n",
    "    \n",
    "    Args:\n",
    "        W1: (d,p) parameters\n",
    "        b1: (d,) bias\n",
    "        W2: (k,d) parameters\n",
    "        b2: (k,) bias\n",
    "        x: (p,) features\n",
    "        y: (k,) one-hot encoded feature vector\n",
    "    '''\n",
    "    h = relu(W1 @ x + b1)\n",
    "    return -y.dot(log_softmax(W2 @ h + b2))\n",
    "\n",
    "d = 32\n",
    "rn = lambda *sh: np.random.normal(size=sh)\n",
    "W1 = rn(d, p)\n",
    "b1 = rn(d)\n",
    "W2 = rn(k, d)\n",
    "b2 = rn(k)\n",
    "loss(W1, b1, W2, b2, x, y)"
   ]
  },
  {
   "cell_type": "markdown",
   "id": "63c72fdc",
   "metadata": {
    "slideshow": {
     "slide_type": "slide"
    }
   },
   "source": [
    "## On real data\n",
    "\n",
    "Let's see how our model performs on real data.\n"
   ]
  },
  {
   "cell_type": "code",
   "execution_count": 177,
   "id": "9608800d",
   "metadata": {},
   "outputs": [
    {
     "data": {
      "text/plain": [
       "(10000, 784)"
      ]
     },
     "execution_count": 177,
     "metadata": {},
     "output_type": "execute_result"
    }
   ],
   "source": [
    "# mnist = dict(np.load('mnist.npz'))\n",
    "mnist['X_validate'].shape"
   ]
  },
  {
   "cell_type": "code",
   "execution_count": 185,
   "id": "9d4b58ee",
   "metadata": {
    "slideshow": {
     "slide_type": "slide"
    }
   },
   "outputs": [
    {
     "data": {
      "text/plain": [
       "(5, array([0, 0, 0, 0, 0, 1, 0, 0, 0, 0]))"
      ]
     },
     "execution_count": 185,
     "metadata": {},
     "output_type": "execute_result"
    }
   ],
   "source": [
    "from sklearn.preprocessing import LabelBinarizer\n",
    "from sklearn.pipeline import make_pipeline\n",
    "\n",
    "X = mnist['X_train']\n",
    "yhot = LabelBinarizer().fit_transform(mnist['y_train'])\n",
    "\n",
    "mnist['y_train'][0], yhot[0]\n",
    "\n",
    "# plt.imshow(1-X[0].reshape(28, 28), cmap=\"gray\")"
   ]
  },
  {
   "cell_type": "markdown",
   "id": "a4ab4710",
   "metadata": {
    "slideshow": {
     "slide_type": "slide"
    }
   },
   "source": [
    "Our model needs to compute the loss over multiple batch functions, so we'll loop over the batch dimensions:"
   ]
  },
  {
   "cell_type": "code",
   "execution_count": 188,
   "id": "6398c5d5",
   "metadata": {
    "slideshow": {
     "slide_type": "-"
    }
   },
   "outputs": [
    {
     "name": "stdout",
     "output_type": "stream",
     "text": [
      "CPU times: user 8.66 s, sys: 6.77 s, total: 15.4 s\n",
      "Wall time: 1.91 s\n"
     ]
    },
    {
     "data": {
      "text/plain": [
       "3268747.183648068"
      ]
     },
     "execution_count": 188,
     "metadata": {},
     "output_type": "execute_result"
    }
   ],
   "source": [
    "%%time\n",
    "def batch_loss(W1, b1, W2, b2, X, yhot):\n",
    "    '''batch loss.\n",
    "    \n",
    "    Args:\n",
    "        W1, b1, W2, b2: same as in loss()\n",
    "        X: (n,p) stack of features\n",
    "        yhot: (n,k) stock of one-hot encoded classes.    \n",
    "    '''\n",
    "    ret = 0.\n",
    "    for i in range(len(X)):\n",
    "        ret += loss(W1, b1, W2, b2, X[i], yhot[i])\n",
    "    return ret\n",
    "    # iterate over X, yhot\n",
    "    \n",
    "batch_loss(W1, b1, W2, b2, X, yhot)"
   ]
  },
  {
   "cell_type": "code",
   "execution_count": 46,
   "id": "d26f8584",
   "metadata": {
    "slideshow": {
     "slide_type": "slide"
    }
   },
   "outputs": [
    {
     "name": "stdout",
     "output_type": "stream",
     "text": [
      "CPU times: user 8.26 s, sys: 5.94 s, total: 14.2 s\n",
      "Wall time: 1.77 s\n"
     ]
    },
    {
     "data": {
      "text/plain": [
       "-3603388.3229384064"
      ]
     },
     "execution_count": 46,
     "metadata": {},
     "output_type": "execute_result"
    }
   ],
   "source": [
    "%%time\n",
    "batch_loss(W1, b1, W2, b2, X, yhot)"
   ]
  },
  {
   "cell_type": "markdown",
   "id": "699fa197",
   "metadata": {
    "slideshow": {
     "slide_type": "notes"
    }
   },
   "source": [
    "Our \"pure Python\" implementation is correct, but it takes almost 2 second per training iteration. It will take forever to train. And there are other issues as well:\n",
    "- To speed up training, we want to have the gradient of the loss function. But deriving the gradient by hand is already difficult even in this simple example.\n",
    "- Batching requires Python iteration, which is slower than \"low-level\" iteration (using e.g. C or Fortran).\n",
    "- Ideally, we could compile this model and make it really fast. But translating this model to C code is error-prone and time consuming.\n",
    "\n",
    "We are going to solve all these problems and more using a library called Jax. (PyTorch does the same thing, but I find Jax even easier to understand.)"
   ]
  },
  {
   "cell_type": "code",
   "execution_count": 217,
   "id": "87366c7f",
   "metadata": {
    "slideshow": {
     "slide_type": "slide"
    }
   },
   "outputs": [
    {
     "name": "stdout",
     "output_type": "stream",
     "text": [
      "CPU times: user 39 µs, sys: 2 µs, total: 41 µs\n",
      "Wall time: 57.2 µs\n"
     ]
    }
   ],
   "source": [
    "%%time\n",
    "import jax\n",
    "import jax.numpy as jnp\n",
    "from jax import grad, vmap, jit\n",
    "\n",
    "def mlp(W1, b1, W2, b2, x):\n",
    "    h = jax.nn.relu(W1 @ x + b1)\n",
    "    return jax.nn.log_softmax(W2 @ h + b2)    \n",
    "\n",
    "def loss(W1, b1, W2, b2, x, y):\n",
    "    return -jnp.dot(y, mlp(W1, b1, W2, b2, x))\n",
    "\n",
    "def batch_loss(params, X, y):\n",
    "    W1, b1, W2, b2 = params\n",
    "    return vmap(loss, in_axes=(None,) * 4 + (0, 0))(W1, b1, W2, b2, X, y).sum()"
   ]
  },
  {
   "cell_type": "code",
   "execution_count": 214,
   "id": "ba20de53",
   "metadata": {
    "slideshow": {
     "slide_type": "slide"
    }
   },
   "outputs": [
    {
     "name": "stdout",
     "output_type": "stream",
     "text": [
      "CPU times: user 447 ms, sys: 2.75 ms, total: 450 ms\n",
      "Wall time: 35.5 ms\n"
     ]
    }
   ],
   "source": [
    "%%time\n",
    "\n",
    "params = (W1, b1, W2, b2)\n",
    "df = gloss(params, X, yhot)"
   ]
  },
  {
   "cell_type": "markdown",
   "id": "44a872a2",
   "metadata": {
    "slideshow": {
     "slide_type": "slide"
    }
   },
   "source": [
    "Optimization will be done by gradient descent, using a Jax-friendly optimizer."
   ]
  },
  {
   "cell_type": "code",
   "execution_count": 218,
   "id": "2f422d43",
   "metadata": {
    "slideshow": {
     "slide_type": "-"
    }
   },
   "outputs": [
    {
     "name": "stdout",
     "output_type": "stream",
     "text": [
      "CPU times: user 5min 4s, sys: 5.69 s, total: 5min 9s\n",
      "Wall time: 32.3 s\n"
     ]
    }
   ],
   "source": [
    "%%time\n",
    "import jaxopt \n",
    "import jax.flatten_util\n",
    "\n",
    "params = (W1, b1, W2, b2)\n",
    "\n",
    "def obj(params):\n",
    "    return batch_loss(params, X, yhot)\n",
    "\n",
    "opt = jaxopt.GradientDescent(obj)\n",
    "params_star, _ = opt.run(params)"
   ]
  },
  {
   "cell_type": "code",
   "execution_count": 219,
   "id": "afcd4b61",
   "metadata": {
    "slideshow": {
     "slide_type": "slide"
    }
   },
   "outputs": [
    {
     "data": {
      "text/plain": [
       "(Array(3268747.2, dtype=float32), Array(69227.22, dtype=float32))"
      ]
     },
     "execution_count": 219,
     "metadata": {},
     "output_type": "execute_result"
    }
   ],
   "source": [
    "obj(params), obj(params_star)"
   ]
  },
  {
   "cell_type": "code",
   "execution_count": 222,
   "id": "4cf93bee",
   "metadata": {},
   "outputs": [
    {
     "data": {
      "text/plain": [
       "array([0, 0, 0, 1, 0, 0, 0, 0, 0, 0])"
      ]
     },
     "execution_count": 222,
     "metadata": {},
     "output_type": "execute_result"
    }
   ],
   "source": [
    "i = 30\n",
    "yhot[i]"
   ]
  },
  {
   "cell_type": "code",
   "execution_count": 224,
   "id": "75c85977",
   "metadata": {},
   "outputs": [
    {
     "data": {
      "text/plain": [
       "Array([0.08164822, 0.0031922 , 0.15307474, 0.06987371, 0.15000601,\n",
       "       0.0737782 , 0.15460898, 0.01895919, 0.14769076, 0.147168  ],      dtype=float32)"
      ]
     },
     "execution_count": 224,
     "metadata": {},
     "output_type": "execute_result"
    }
   ],
   "source": [
    "jax.nn.softmax(mlp(*params_star, X[i]))"
   ]
  },
  {
   "cell_type": "code",
   "execution_count": 233,
   "id": "829aaf46",
   "metadata": {
    "slideshow": {
     "slide_type": "slide"
    }
   },
   "outputs": [
    {
     "data": {
      "text/plain": [
       "<BarContainer object of 10 artists>"
      ]
     },
     "execution_count": 233,
     "metadata": {},
     "output_type": "execute_result"
    },
    {
     "data": {
      "image/png": "[encoded data removed]",
      "text/plain": [
       "<Figure size 1008x432 with 2 Axes>"
      ]
     },
     "metadata": {
      "needs_background": "light"
     },
     "output_type": "display_data"
    }
   ],
   "source": [
    "import matplotlib.pyplot as plt\n",
    "fig, axs = plt.subplots(ncols=2, figsize=(14, 6))\n",
    "i = 10000\n",
    "axs[0].imshow(1 - mnist['X_train'][i].reshape(28, 28), cmap=\"gray\")\n",
    "axs[1].bar(jnp.arange(10), jax.nn.softmax(mlp(*params_star, X[i])))"
   ]
  },
  {
   "cell_type": "markdown",
   "id": "f754671d",
   "metadata": {
    "slideshow": {
     "slide_type": "slide"
    }
   },
   "source": [
    "## Building more complicated NNets\n",
    "In practice we don't code these by hand, but instead rely on other libraries that have implemented all the standard layers. PyTorch is very popular. I am partial to [Equinox](https://docs.kidger.site/equinox/all-of-equinox/), which is similar to PyTorch but easier to understand (has less magic)."
   ]
  },
  {
   "cell_type": "code",
   "execution_count": 237,
   "id": "a642e746",
   "metadata": {
    "slideshow": {
     "slide_type": "slide"
    }
   },
   "outputs": [],
   "source": [
    "import equinox as eqx\n",
    "from jaxtyping import Float, Array\n",
    "\n",
    "class CNN(eqx.Module):  # same as in PyTorch\n",
    "    layers: list\n",
    "\n",
    "    def __init__(self, key):\n",
    "        key1, key2, key3, key4 = jax.random.split(key, 4)\n",
    "        # Standard CNN setup: convolutional layer, followed by flattening,\n",
    "        # with a small MLP on top.\n",
    "        self.layers = [\n",
    "            eqx.nn.Conv2d(1, 3, kernel_size=4, key=key1),\n",
    "            eqx.nn.MaxPool2d(kernel_size=2),\n",
    "            jax.nn.relu,\n",
    "            jnp.ravel,\n",
    "            eqx.nn.Linear(1728, 512, key=key2),\n",
    "            jax.nn.sigmoid,\n",
    "            eqx.nn.Linear(512, 64, key=key3),\n",
    "            jax.nn.relu,\n",
    "            eqx.nn.Linear(64, 10, key=key4),\n",
    "            jax.nn.log_softmax,\n",
    "        ]\n",
    "\n",
    "    def __call__(self, x: Float[Array, \"1 28 28\"]) -> Float[Array, \"10\"]:\n",
    "        for layer in self.layers:\n",
    "            x = layer(x)\n",
    "        return x\n",
    "\n",
    "key = jax.random.PRNGKey(1)\n",
    "key, subkey = jax.random.split(key, 2)\n",
    "model = CNN(subkey)"
   ]
  },
  {
   "cell_type": "code",
   "execution_count": 238,
   "id": "060eea8b",
   "metadata": {
    "slideshow": {
     "slide_type": "slide"
    }
   },
   "outputs": [
    {
     "ename": "TypeError",
     "evalue": "Gradient only defined for scalar-output functions. Output had shape: (10,).",
     "output_type": "error",
     "traceback": [
      "\u001b[0;31m---------------------------------------------------------------------------\u001b[0m",
      "\u001b[0;31mTypeError\u001b[0m                                 Traceback (most recent call last)",
      "Input \u001b[0;32mIn [238]\u001b[0m, in \u001b[0;36m<cell line: 1>\u001b[0;34m()\u001b[0m\n\u001b[0;32m----> 1\u001b[0m \u001b[43meqx\u001b[49m\u001b[38;5;241;43m.\u001b[39;49m\u001b[43mfilter_value_and_grad\u001b[49m\u001b[43m(\u001b[49m\u001b[43mmodel\u001b[49m\u001b[43m)\u001b[49m\u001b[43m(\u001b[49m\u001b[43mX\u001b[49m\u001b[43m[\u001b[49m\u001b[43m:\u001b[49m\u001b[38;5;241;43m1\u001b[39;49m\u001b[43m]\u001b[49m\u001b[38;5;241;43m.\u001b[39;49m\u001b[43mreshape\u001b[49m\u001b[43m(\u001b[49m\u001b[38;5;241;43m-\u001b[39;49m\u001b[38;5;241;43m1\u001b[39;49m\u001b[43m,\u001b[49m\u001b[43m \u001b[49m\u001b[38;5;241;43m28\u001b[39;49m\u001b[43m,\u001b[49m\u001b[43m \u001b[49m\u001b[38;5;241;43m28\u001b[39;49m\u001b[43m)\u001b[49m\u001b[43m)\u001b[49m\n",
      "File \u001b[0;32m~/opt/py310/lib/python3.10/site-packages/equinox/_ad.py:59\u001b[0m, in \u001b[0;36m_ValueAndGradWrapper.__call__\u001b[0;34m(self, x, *args, **kwargs)\u001b[0m\n\u001b[1;32m     56\u001b[0m     \u001b[38;5;28;01mreturn\u001b[39;00m \u001b[38;5;28mself\u001b[39m\u001b[38;5;241m.\u001b[39m_fun(_x, \u001b[38;5;241m*\u001b[39m_args, \u001b[38;5;241m*\u001b[39m\u001b[38;5;241m*\u001b[39m_kwargs)\n\u001b[1;32m     58\u001b[0m diff_x, nondiff_x \u001b[38;5;241m=\u001b[39m partition(x, is_inexact_array)\n\u001b[0;32m---> 59\u001b[0m \u001b[38;5;28;01mreturn\u001b[39;00m \u001b[43mfun_value_and_grad\u001b[49m\u001b[43m(\u001b[49m\u001b[43mdiff_x\u001b[49m\u001b[43m,\u001b[49m\u001b[43m \u001b[49m\u001b[43mnondiff_x\u001b[49m\u001b[43m,\u001b[49m\u001b[43m \u001b[49m\u001b[38;5;241;43m*\u001b[39;49m\u001b[43margs\u001b[49m\u001b[43m,\u001b[49m\u001b[43m \u001b[49m\u001b[38;5;241;43m*\u001b[39;49m\u001b[38;5;241;43m*\u001b[39;49m\u001b[43mkwargs\u001b[49m\u001b[43m)\u001b[49m\n",
      "    \u001b[0;31m[... skipping hidden 2 frame]\u001b[0m\n",
      "File \u001b[0;32m~/opt/py310/lib/python3.10/site-packages/jax/_src/api.py:767\u001b[0m, in \u001b[0;36m_check_scalar\u001b[0;34m(x)\u001b[0m\n\u001b[1;32m    765\u001b[0m \u001b[38;5;28;01mif\u001b[39;00m \u001b[38;5;28misinstance\u001b[39m(aval, ShapedArray):\n\u001b[1;32m    766\u001b[0m   \u001b[38;5;28;01mif\u001b[39;00m aval\u001b[38;5;241m.\u001b[39mshape \u001b[38;5;241m!=\u001b[39m ():\n\u001b[0;32m--> 767\u001b[0m     \u001b[38;5;28;01mraise\u001b[39;00m \u001b[38;5;167;01mTypeError\u001b[39;00m(msg(\u001b[38;5;124mf\u001b[39m\u001b[38;5;124m\"\u001b[39m\u001b[38;5;124mhad shape: \u001b[39m\u001b[38;5;132;01m{\u001b[39;00maval\u001b[38;5;241m.\u001b[39mshape\u001b[38;5;132;01m}\u001b[39;00m\u001b[38;5;124m\"\u001b[39m))\n\u001b[1;32m    768\u001b[0m \u001b[38;5;28;01melse\u001b[39;00m:\n\u001b[1;32m    769\u001b[0m   \u001b[38;5;28;01mraise\u001b[39;00m \u001b[38;5;167;01mTypeError\u001b[39;00m(msg(\u001b[38;5;124mf\u001b[39m\u001b[38;5;124m\"\u001b[39m\u001b[38;5;124mhad abstract value \u001b[39m\u001b[38;5;132;01m{\u001b[39;00maval\u001b[38;5;132;01m}\u001b[39;00m\u001b[38;5;124m\"\u001b[39m))\n",
      "\u001b[0;31mTypeError\u001b[0m: Gradient only defined for scalar-output functions. Output had shape: (10,)."
     ]
    }
   ],
   "source": [
    "eqx.filter_value_and_grad(model)(\n",
    "    X[:1].reshape(-1, 28, 28)\n",
    ")"
   ]
  }
 ],
 "metadata": {
  "celltoolbar": "Slideshow",
  "kernelspec": {
   "display_name": "Python 3",
   "language": "python",
   "name": "python3"
  },
  "language_info": {
   "codemirror_mode": {
    "name": "ipython",
    "version": 3
   },
   "file_extension": ".py",
   "mimetype": "text/x-python",
   "name": "python",
   "nbconvert_exporter": "python",
   "pygments_lexer": "ipython3",
   "version": "3.10.12"
  }
 },
 "nbformat": 4,
 "nbformat_minor": 5
}
