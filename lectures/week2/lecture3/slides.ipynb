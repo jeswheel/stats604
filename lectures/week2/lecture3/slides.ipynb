{
 "cells": [
  {
   "cell_type": "markdown",
   "id": "e9c6b5c8",
   "metadata": {
    "slideshow": {
     "slide_type": "slide"
    }
   },
   "source": [
    "# Lecture 2a: Overview of study designs; Experiments"
   ]
  },
  {
   "cell_type": "markdown",
   "id": "a9054230",
   "metadata": {
    "slideshow": {
     "slide_type": "slide"
    }
   },
   "source": [
    "### Outline\n",
    "\n",
    "* Polio\n",
    "* Overview of study designs\n",
    "* Mammograms"
   ]
  },
  {
   "cell_type": "markdown",
   "id": "0e42f0ba",
   "metadata": {
    "slideshow": {
     "slide_type": "slide"
    }
   },
   "source": [
    "## Polio"
   ]
  },
  {
   "cell_type": "markdown",
   "id": "06a7240b",
   "metadata": {
    "slideshow": {
     "slide_type": "slide"
    }
   },
   "source": [
    "### Brief facts"
   ]
  },
  {
   "cell_type": "markdown",
   "id": "c5f9346d",
   "metadata": {
    "slideshow": {
     "slide_type": "fragment"
    }
   },
   "source": [
    "* Viral disease that may cause paralysis"
   ]
  },
  {
   "cell_type": "markdown",
   "id": "f39d7d4c",
   "metadata": {
    "slideshow": {
     "slide_type": "fragment"
    }
   },
   "source": [
    "* Range of symptoms and severity\n",
    "  * ~70% asymptomatic\n",
    "  * ~25% mild symptoms (sore throat, low fever)\n",
    "  * ~5% meningitis (head/neck/back pain, vomiting, fever)\n",
    "  * <1% paralysis"
   ]
  },
  {
   "cell_type": "markdown",
   "id": "c9f19990",
   "metadata": {
    "slideshow": {
     "slide_type": "fragment"
    }
   },
   "source": [
    "* Highly contagious, often transmitted fecal-oral"
   ]
  },
  {
   "cell_type": "markdown",
   "id": "9978aa63",
   "metadata": {
    "slideshow": {
     "slide_type": "fragment"
    }
   },
   "source": [
    "* Seasonal (summer, autumn)"
   ]
  },
  {
   "cell_type": "markdown",
   "id": "fd8ce712",
   "metadata": {
    "slideshow": {
     "slide_type": "slide"
    }
   },
   "source": [
    "### Brief history"
   ]
  },
  {
   "cell_type": "markdown",
   "id": "7a393591",
   "metadata": {
    "slideshow": {
     "slide_type": "fragment"
    }
   },
   "source": [
    "* Endemic for much of human history"
   ]
  },
  {
   "cell_type": "markdown",
   "id": "0556a03f",
   "metadata": {
    "slideshow": {
     "slide_type": "fragment"
    }
   },
   "source": [
    "* Epidemics began around 1900 in Europe and the US"
   ]
  },
  {
   "cell_type": "markdown",
   "id": "4bc2a06b",
   "metadata": {
    "slideshow": {
     "slide_type": "fragment"
    }
   },
   "source": [
    "* Vaccines developed around 1950"
   ]
  },
  {
   "cell_type": "markdown",
   "id": "a3f425a6",
   "metadata": {
    "slideshow": {
     "slide_type": "slide"
    }
   },
   "source": [
    "### Testing the vaccine"
   ]
  },
  {
   "cell_type": "markdown",
   "id": "de8297c8",
   "metadata": {
    "slideshow": {
     "slide_type": "fragment"
    }
   },
   "source": [
    "* Does the vaccine work?  How could we find out?"
   ]
  },
  {
   "cell_type": "markdown",
   "id": "5a7818a7",
   "metadata": {
    "slideshow": {
     "slide_type": "fragment"
    }
   },
   "source": [
    "* One idea: Give everyone the vaccine, see if the rate of Polio goes down."
   ]
  },
  {
   "cell_type": "markdown",
   "id": "872a131f",
   "metadata": {
    "slideshow": {
     "slide_type": "fragment"
    }
   },
   "source": [
    "* We need controls.  But who should get the vaccine, and who shouldn't?"
   ]
  },
  {
   "cell_type": "markdown",
   "id": "2ca8bbc0",
   "metadata": {
    "slideshow": {
     "slide_type": "slide"
    }
   },
   "source": [
    "### Randomize or not?"
   ]
  },
  {
   "cell_type": "markdown",
   "id": "e5417398",
   "metadata": {
    "slideshow": {
     "slide_type": "fragment"
    }
   },
   "source": [
    "* Why randomize?"
   ]
  },
  {
   "cell_type": "markdown",
   "id": "28e45962",
   "metadata": {
    "slideshow": {
     "slide_type": "fragment"
    }
   },
   "source": [
    "* Why *not* randomize?"
   ]
  },
  {
   "cell_type": "markdown",
   "id": "04a9846a",
   "metadata": {
    "slideshow": {
     "slide_type": "slide"
    }
   },
   "source": [
    "### The Salk Vaccine Trial (Randomized Experiment)\n",
    "\n",
    "The Randomized Controlled Double-Blind Experiment\n",
    "\n",
    "|  <i></i>   |    Size |  Rate |\n",
    "| ---------- | ------: | ----: |\n",
    "| Treatment  | 200,000 |    28 |\n",
    "| Control    | 200,000 |    71 |\n",
    "| No Consent | 350,000 |    46 |\n",
    "\n",
    "Rate is cases per 100,000."
   ]
  },
  {
   "cell_type": "markdown",
   "id": "26a5b6f3",
   "metadata": {
    "slideshow": {
     "slide_type": "slide"
    }
   },
   "source": [
    "### The Salk Vaccine Trial (NFIP Study)\n",
    "\n",
    "| <i></i>                 |    Size |  Rate |\n",
    "| ----------------------- | ------: | ----: |\n",
    "| Grade 2 (vaccine)       | 225,000 |    25 |\n",
    "| Grade 1 and 3 (control) | 725,000 |    54 |\n",
    "| Grade 2 (no Consent)    | 125,000 |    44 |\n",
    "\n",
    "Rate is cases per 100,000."
   ]
  },
  {
   "cell_type": "markdown",
   "id": "e1afa8e5",
   "metadata": {
    "slideshow": {
     "slide_type": "slide"
    }
   },
   "source": [
    "### Discussion Question -- Working backwards\n",
    "\n",
    "Can we use the result of the NFIP study to (nearly) reproduce the results of the randomized experiment?  \n",
    "\n",
    "In both studies, the rate of polio among people receive the vaccine is about 28 (25).  In both studies, the rate of polio among the no-consent group is about 46 (44).  The difference is in the control group.  In the experiment, the rate is 71; in NFIP it's 54.  That's because the NFIP study includes people who would not have given consent, had you had asked them.  \n",
    "\n",
    "Use simple algebra to estimate the rate of polio among the NFIP controls, just among those would would have given consent if you had asked them.  What assumption(s) do you need to do this?"
   ]
  },
  {
   "cell_type": "markdown",
   "id": "04c65bd5",
   "metadata": {
    "slideshow": {
     "slide_type": "slide"
    }
   },
   "source": [
    "### Method of Comparison\n",
    "* To know if a treatment works, we need something to compare it to.\n",
    "* In an experiment, we want the treatment group and the control group to be as similar as possible -- except for treatment.\n",
    "* Randomization ensures that people in the treatment and control groups are similar.\n",
    "* Double-blinding ensures that people in the treatment and control groups are evaluated similarly.\n",
    "* **The only difference between the treatment and control groups should be the treatment!**"
   ]
  },
  {
   "cell_type": "markdown",
   "id": "123158fd",
   "metadata": {
    "slideshow": {
     "slide_type": "slide"
    }
   },
   "source": [
    "## Overview of study designs"
   ]
  },
  {
   "cell_type": "markdown",
   "id": "463cfc64",
   "metadata": {
    "slideshow": {
     "slide_type": "slide"
    }
   },
   "source": [
    "### Types of Studies\n",
    "<img src=\"images/studies1.png\" width=\"80%\">"
   ]
  },
  {
   "cell_type": "markdown",
   "id": "1631e733",
   "metadata": {
    "slideshow": {
     "slide_type": "slide"
    }
   },
   "source": [
    "### Types of Studies"
   ]
  },
  {
   "cell_type": "markdown",
   "id": "2f89f746",
   "metadata": {
    "slideshow": {
     "slide_type": "fragment"
    }
   },
   "source": [
    "* In an **experiment**, the researcher decides who will get treatment and who will get control."
   ]
  },
  {
   "cell_type": "markdown",
   "id": "a459edaf",
   "metadata": {
    "slideshow": {
     "slide_type": "fragment"
    }
   },
   "source": [
    "* In an **observational study**, the researcher does not decide who will get treatment and who will get control.  \n",
    "  * Often the subjects decide themselves.  \n",
    "  * Sometimes some other external factor decides."
   ]
  },
  {
   "cell_type": "markdown",
   "id": "ce74c435",
   "metadata": {
    "slideshow": {
     "slide_type": "fragment"
    }
   },
   "source": [
    "* **Natural Experiments** are somewhere \"in between\" experiments and observational studies  \n",
    "  * The researcher *does not* decide who gets treatment and who gets control  \n",
    "  * The subjects also *do not* decide whether they will get treatment or control  \n",
    "  * Instead, treatment is determined by some external factor  \n",
    "  * Critically, *the researcher can argue that the external factor is essentially random*  \n",
    "  * \"Nature performs an experiment for us\""
   ]
  },
  {
   "cell_type": "markdown",
   "id": "8934eea5",
   "metadata": {
    "slideshow": {
     "slide_type": "slide"
    }
   },
   "source": [
    "### Confounding\n",
    "\n",
    "* Key problem with observational studies: Confounding.  \n",
    "* Confounder: A variable that  \n",
    "  1. is associated with treatment  \n",
    "  2. has an effect on response.  \n",
    "* When confounders are present, it's hard to say whether any observed difference in response between the treatment group and the control group is due to treatment, or due to the confounders."
   ]
  },
  {
   "cell_type": "markdown",
   "id": "0df2bae2",
   "metadata": {
    "slideshow": {
     "slide_type": "slide"
    }
   },
   "source": [
    "## Mammograms"
   ]
  },
  {
   "cell_type": "markdown",
   "id": "5249f47d",
   "metadata": {
    "slideshow": {
     "slide_type": "slide"
    }
   },
   "source": [
    "### Background\n",
    "* Breast cancer is one of the most common malignancies among women in the U.S.  \n",
    "* If detected early enough, chances of successful treatment are much better.  \n",
    "* Do mammogram screening programs speed up detection by enough to matter?"
   ]
  },
  {
   "cell_type": "markdown",
   "id": "ea30bf99",
   "metadata": {
    "slideshow": {
     "slide_type": "slide"
    }
   },
   "source": [
    "### HIP Trial\n",
    "* First large-scale trial was run by the Health Insurance Plan of Greater New York, starting in 1963.  \n",
    "* The subjects (all members of the plan) were 62,000 women age 40 to 64.  \n",
    "* Divided at random into treatment and control groups, each of size ~31,000.\n",
    "* In the treatment group, people were encouraged to come in for annual screening, including examination by a doctor and X-rays.  About 20,200 people in the treatment group did come in for the screening; but 10,800 refused.  \n",
    "* The control group was offered usual health care.  \n",
    "* Both treatment and control groups were followed for many years.  Results for the first 5 years are shown in the table below."
   ]
  },
  {
   "cell_type": "markdown",
   "id": "bc92a497",
   "metadata": {
    "slideshow": {
     "slide_type": "slide"
    }
   },
   "source": [
    "### Results\n",
    "<img src=\"images/hiptable.png\" width=\"80%\">"
   ]
  },
  {
   "cell_type": "markdown",
   "id": "1152153b",
   "metadata": {
    "slideshow": {
     "slide_type": "slide"
    }
   },
   "source": [
    "### Discussion questions"
   ]
  },
  {
   "cell_type": "markdown",
   "id": "98e85f11",
   "metadata": {
    "slideshow": {
     "slide_type": "fragment"
    }
   },
   "source": [
    "* Does screening save lives?  Which numbers in the table prove your point?"
   ]
  },
  {
   "cell_type": "markdown",
   "id": "a9dba353",
   "metadata": {
    "slideshow": {
     "slide_type": "fragment"
    }
   },
   "source": [
    "* Why is the death rate from all other causes in the whole treatment group (\"examined\" and \"refused\" combined) about the same as the rate in the control group?"
   ]
  },
  {
   "cell_type": "markdown",
   "id": "ac01c41f",
   "metadata": {
    "slideshow": {
     "slide_type": "fragment"
    }
   },
   "source": [
    "* Breast cancer (like polio, but unlike most other diseases) affects the rich more than the poor.  Do we see evidence of this in the table?  Where?"
   ]
  },
  {
   "cell_type": "markdown",
   "id": "9640fb6a",
   "metadata": {
    "slideshow": {
     "slide_type": "fragment"
    }
   },
   "source": [
    "* The death rate (from all causes) among women who accepted screening is about half the death rate among women who refused.  Did screening cut the death rate in half?  If not, what explains the difference in death rates?"
   ]
  },
  {
   "cell_type": "markdown",
   "id": "74861b78",
   "metadata": {
    "slideshow": {
     "slide_type": "slide"
    }
   },
   "source": [
    "### Discussion questions"
   ]
  },
  {
   "cell_type": "markdown",
   "id": "3ac54f92",
   "metadata": {
    "slideshow": {
     "slide_type": "fragment"
    }
   },
   "source": [
    "* To show that screening reduces the risk from breast cancer, someone wants to compare 1.1 and 1.5.  Is this a good comparison?  Is it biased against screening?  For screening?"
   ]
  },
  {
   "cell_type": "markdown",
   "id": "d739b8a9",
   "metadata": {
    "slideshow": {
     "slide_type": "fragment"
    }
   },
   "source": [
    "* Someone claims that encouraging women to come in for breast cancer screening increases their health consciousness, so these women take better care of themselves and live longer for that reason.  Is the table consistent or inconsistent with the claim?  Explain briefly."
   ]
  },
  {
   "cell_type": "markdown",
   "id": "2b33808f",
   "metadata": {
    "slideshow": {
     "slide_type": "fragment"
    }
   },
   "source": [
    "* In the first year of the HIP trial, 67 breast cancers were detected in the \"examined\" group, 12 in the \"refused\" group, and 58 in the control group.  True or false, and explain briefly: screening causes breast cancer."
   ]
  }
 ],
 "metadata": {
  "celltoolbar": "Slideshow",
  "jupytext": {
   "formats": "ipynb,md:myst",
   "notebook_metadata_filter": "all"
  },
  "kernelspec": {
   "display_name": "R",
   "language": "R",
   "name": "ir"
  },
  "language_info": {
   "codemirror_mode": "r",
   "file_extension": ".r",
   "mimetype": "text/x-r-source",
   "name": "R",
   "pygments_lexer": "r",
   "version": "4.2.1"
  },
  "rise": {
   "auto_select": "none",
   "autolaunch": true,
   "center": false,
   "controls": false,
   "enable_chalkboard": true,
   "progress": false,
   "scroll": true,
   "slideNumber": false,
   "theme": "simple",
   "transition": "none"
  },
  "toc-showtags": true
 },
 "nbformat": 4,
 "nbformat_minor": 5
}
